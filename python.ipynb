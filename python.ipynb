import requests
from bs4 import BeautifulSoup

def get_brand_pages_urls():
    # 1
    url = 'https://encyklopedia.moto.pl'

    response = requests.get(url)
    soup = BeautifulSoup(response.text, 'html.parser');
    
    # 2
    results = soup.select('.make-logo-title a')
    links = []
    for result in results:
        links.append(url + result['href'])
        
    return links

def get_model_pages_urls(brand_url):
    
    #1
    url = 'https://encyklopedia.moto.pl'
    response = requests.get(brand_url)
    soup = BeautifulSoup(response.text, 'html.parser')
    
    # 2
    results = soup.select('.model-picture-title a')
    links = []
    for result in results:
        links.append(url + result['href'])
    return links

def get_model_details(model_url):
    
    response = requests.get(model_url)
    soup = BeautifulSoup(response.text, 'html.parser')

    name = soup.select_one('h1').text.strip()

    names = soup.select('.model-detail-name')
    values = soup.select('.model-detail-value')

    params = zip(names, values)
    years = None
    prices = None
    for param in params:
        if param[0].text.strip() == 'Lata produkcji:':
            years = param[1].text.strip()
        elif param[0].text.strip()  == 'Przedział cenowy:' or param[0].text.strip() == "Cena:":
            prices = param[1].text.strip()

    result = {
        'name': name,
        'years': years,
        'prices': prices
    }        

    return result

brand_urls = get_brand_pages_urls()[:5]

for brand_url in brand_urls:
    
    model_urls = get_model_pages_urls(brand_url)
    for model_url in model_urls:
        data = get_model_details(model_url)
        print(data['name'].ljust(40), '|', data['years'].ljust(20), '|', data['prices'])